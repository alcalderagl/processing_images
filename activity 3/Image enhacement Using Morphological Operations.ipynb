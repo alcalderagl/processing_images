{
  "cells": [
    {
      "cell_type": "markdown",
      "metadata": {
        "id": "5LUci_8hs10d"
      },
      "source": [
        "### Master of Applied Artificial Intelligence\n",
        "\n",
        "**Course: TC4033 - Computational Vision for Images and Video**\n",
        "\n",
        "<img src=\"./../assets/logo.png\" alt=\"Image Alt Text\" width=\"500\"/>\n",
        "\n",
        "**Image enhancement algorithms using Morphological Operations**\n",
        "\n",
        "Tutor: Dr. Gilberto Ochoa\n",
        "\n",
        "\n",
        "Team members:\n",
        "* Alfonso de Lucas Espinosa - A01795118\n",
        "* Ignacio Jose Aguilar Garcia - A00819762\n",
        "* Alejandro Calderon Aguilar - A01795353\n",
        "* Ricardo Mar Cupido - A01795394\n",
        "* Mario Fonseca Martinez - A01795228\n"
      ]
    },
    {
      "cell_type": "markdown",
      "metadata": {},
      "source": [
        "### Introduction\n"
      ]
    },
    {
      "cell_type": "markdown",
      "metadata": {
        "id": "kohvYNVxs10g"
      },
      "source": [
        "### Importing libraries"
      ]
    },
    {
      "cell_type": "code",
      "execution_count": 1,
      "metadata": {
        "id": "WV44qhLIs10h"
      },
      "outputs": [],
      "source": [
        "from matplotlib import image as mpimg\n",
        "import matplotlib.pyplot as plt\n",
        "import numpy as np\n",
        "import cv2\n",
        "from PIL import Image"
      ]
    },
    {
      "cell_type": "markdown",
      "metadata": {
        "id": "Pj_Apv6Ss10h"
      },
      "source": [
        "### Loading Images"
      ]
    },
    {
      "cell_type": "code",
      "execution_count": 2,
      "metadata": {
        "id": "UeVGL34ls10h"
      },
      "outputs": [],
      "source": [
        "# Loading images"
      ]
    },
    {
      "cell_type": "code",
      "execution_count": 4,
      "metadata": {},
      "outputs": [],
      "source": [
        "def plot_images(images=[], labels=[], nrows=1, ncols=2, figsize=(12,8), cmap=\"gray\"):\n",
        "    \"\"\"\n",
        "    Plots a list of images in a grid layout using Matplotlib.\n",
        "\n",
        "    Parameters:\n",
        "    images (list): List of images to be plotted.\n",
        "    labels (list): List of labels for each image. Default is an empty list.\n",
        "    nrows (int): Number of rows in the grid. Default is 1.\n",
        "    ncols (int): Number of columns in the grid. Default is 2.\n",
        "    figsize (tuple): Size of the figure in inches. Default is (12, 8).\n",
        "    cmap (str): Colormap to be used for displaying the images. Default is \"gray\".\n",
        "\n",
        "    Returns:\n",
        "    None\n",
        "    \"\"\"\n",
        "\n",
        "    # set the subplots\n",
        "    fig, axs = plt.subplots(ncols=ncols, nrows=nrows, figsize=figsize)\n",
        "    # Iterate over each axis defined in M*N as flat\n",
        "    for i, ax in enumerate(axs.flat):\n",
        "        # validates that the dimensions of axs fits with images array parameter\n",
        "        if i < len(images):\n",
        "            # plot the image\n",
        "            ax.imshow(images[i], cmap=cmap)\n",
        "            # if there are labels defined then set a title\n",
        "            if len(labels) > 0:\n",
        "                ax.set_title(labels[i])\n",
        "            # dont show the axis ticks \n",
        "            ax.axis(\"off\")\n",
        "        else:\n",
        "            # dont show an empty plot\n",
        "            ax.axis(\"off\")\n",
        "    # fits the plots \n",
        "    plt.tight_layout()\n",
        "    plt.show()\n"
      ]
    },
    {
      "cell_type": "markdown",
      "metadata": {
        "id": "C1rh87Vns10i"
      },
      "source": [
        "### 1. Application of Erosion in Image Processing"
      ]
    },
    {
      "cell_type": "code",
      "execution_count": null,
      "metadata": {},
      "outputs": [],
      "source": []
    },
    {
      "cell_type": "markdown",
      "metadata": {
        "id": "QxQTFCzrs10k"
      },
      "source": [
        "### 2. Application of Dilatation in Image Processing"
      ]
    },
    {
      "cell_type": "code",
      "execution_count": null,
      "metadata": {
        "id": "kS5ciLCIs10k"
      },
      "outputs": [],
      "source": []
    },
    {
      "cell_type": "markdown",
      "metadata": {
        "id": "XHkymshbs10k"
      },
      "source": [
        "### 3.Application of Opening and Closing Image Processing"
      ]
    },
    {
      "cell_type": "code",
      "execution_count": null,
      "metadata": {
        "id": "SLqXDq4Ps10k"
      },
      "outputs": [],
      "source": []
    },
    {
      "cell_type": "markdown",
      "metadata": {
        "id": "WyHbP0mBD-C5"
      },
      "source": [
        "### Conclusion"
      ]
    },
    {
      "cell_type": "markdown",
      "metadata": {
        "id": "FTgXDBlAs10k"
      },
      "source": [
        "### References\n"
      ]
    }
  ],
  "metadata": {
    "colab": {
      "provenance": []
    },
    "kernelspec": {
      "display_name": "base",
      "language": "python",
      "name": "python3"
    },
    "language_info": {
      "codemirror_mode": {
        "name": "ipython",
        "version": 3
      },
      "file_extension": ".py",
      "mimetype": "text/x-python",
      "name": "python",
      "nbconvert_exporter": "python",
      "pygments_lexer": "ipython3",
      "version": "3.11.5"
    }
  },
  "nbformat": 4,
  "nbformat_minor": 0
}
