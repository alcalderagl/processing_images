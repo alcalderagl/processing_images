{
  "cells": [
    {
      "cell_type": "markdown",
      "metadata": {
        "id": "5LUci_8hs10d"
      },
      "source": [
        "### Master of Applied Artificial Intelligence\n",
        "\n",
        "**Course: TC4033 - Computational Vision for Images and Video**\n",
        "\n",
        "<img src=\"./../assets/logo.png\" alt=\"Image Alt Text\" width=\"500\"/>\n",
        "\n",
        "**Image enhancement algorithms in the spatial domain**\n",
        "\n",
        "Tutor: Dr. Gilberto Ochoa\n",
        "\n",
        "\n",
        "Team members:\n",
        "* Alfonso de Lucas Espinosa - A01795118\n",
        "* Ignacio Jose Aguilar Garcia - A00819762\n",
        "* Alejandro Calderon Aguilar - A01795353\n",
        "* Ricardo Mar Cupido - A01795394\n",
        "* Mario Fonseca Martinez - A01795228\n"
      ]
    },
    {
      "cell_type": "markdown",
      "metadata": {
        "id": "WAdgUUWls10g"
      },
      "source": [
        "### Introduction\n",
        "\n",
        "\n",
        "\n"
      ]
    },
    {
      "cell_type": "markdown",
      "metadata": {
        "id": "kohvYNVxs10g"
      },
      "source": [
        "### Importing libraries"
      ]
    },
    {
      "cell_type": "code",
      "execution_count": 2,
      "metadata": {
        "id": "WV44qhLIs10h"
      },
      "outputs": [],
      "source": [
        "from matplotlib import image as mpimg\n",
        "import matplotlib.pyplot as plt\n",
        "import numpy as np\n",
        "import cv2\n",
        "from PIL import Image"
      ]
    },
    {
      "cell_type": "markdown",
      "metadata": {
        "id": "Pj_Apv6Ss10h"
      },
      "source": [
        "### Loading Images"
      ]
    },
    {
      "cell_type": "code",
      "execution_count": 1,
      "metadata": {
        "id": "UeVGL34ls10h"
      },
      "outputs": [],
      "source": [
        "# Loading images"
      ]
    },
    {
      "cell_type": "markdown",
      "metadata": {
        "id": "C1rh87Vns10i"
      },
      "source": [
        "### 1. Line Detectors"
      ]
    },
    {
      "cell_type": "markdown",
      "metadata": {
        "id": "vq9iA27ys10i"
      },
      "source": [
        "#### 1.1 Prewitt\n"
      ]
    },
    {
      "cell_type": "code",
      "execution_count": null,
      "metadata": {
        "id": "_uzFX4B0s10j",
        "outputId": "cd8db071-bc31-432c-b0b7-4ae10ed8ae3a"
      },
      "outputs": [],
      "source": []
    },
    {
      "cell_type": "markdown",
      "metadata": {
        "id": "Vr6Z_FRms10j"
      },
      "source": [
        "#### 1.2 Sobel"
      ]
    },
    {
      "cell_type": "code",
      "execution_count": null,
      "metadata": {
        "id": "66d53mJds10j"
      },
      "outputs": [],
      "source": []
    },
    {
      "cell_type": "markdown",
      "metadata": {
        "id": "Y8wVXq6ws10k"
      },
      "source": [
        "#### 1.3 Laplaciano"
      ]
    },
    {
      "cell_type": "code",
      "execution_count": null,
      "metadata": {
        "id": "_dFXE9tbs10k",
        "outputId": "e93d5c43-13cc-4292-b961-c9ff6a763898"
      },
      "outputs": [],
      "source": []
    },
    {
      "cell_type": "markdown",
      "metadata": {},
      "source": [
        "*Explain which algorithm is more efficient*"
      ]
    },
    {
      "cell_type": "markdown",
      "metadata": {
        "id": "QxQTFCzrs10k"
      },
      "source": [
        "### 2. Image enhancement algorithms\n",
        "Implement an image enhancement or enhancement algorithm through an algorithm in which the lines are extracted from the image and then the difference with the original image is applied, multiplying the pixels of the “mask” image (the lines found) by a alpha factor greater than 1.\n",
        "\n",
        "\n"
      ]
    },
    {
      "cell_type": "code",
      "execution_count": null,
      "metadata": {
        "id": "kS5ciLCIs10k",
        "outputId": "5a6e88f8-2f06-4668-b7c0-c13299b0ed50"
      },
      "outputs": [],
      "source": []
    },
    {
      "cell_type": "markdown",
      "metadata": {
        "id": "XHkymshbs10k"
      },
      "source": [
        "### 3. A Case Study in Medical Imaging (PET images)"
      ]
    },
    {
      "cell_type": "code",
      "execution_count": null,
      "metadata": {
        "colab": {
          "base_uri": "https://localhost:8080/",
          "height": 201
        },
        "id": "SLqXDq4Ps10k",
        "outputId": "85fb156d-b347-40e3-c706-f2dcefe84d04"
      },
      "outputs": [],
      "source": []
    },
    {
      "cell_type": "markdown",
      "metadata": {},
      "source": [
        "### Conclusion\n",
        "\n",
        "*Team conclusion*"
      ]
    },
    {
      "cell_type": "markdown",
      "metadata": {
        "id": "FTgXDBlAs10k"
      },
      "source": [
        "### References\n",
        "\n",
        "*add references*"
      ]
    }
  ],
  "metadata": {
    "colab": {
      "provenance": []
    },
    "kernelspec": {
      "display_name": "base",
      "language": "python",
      "name": "python3"
    },
    "language_info": {
      "codemirror_mode": {
        "name": "ipython",
        "version": 3
      },
      "file_extension": ".py",
      "mimetype": "text/x-python",
      "name": "python",
      "nbconvert_exporter": "python",
      "pygments_lexer": "ipython3",
      "version": "3.11.5"
    }
  },
  "nbformat": 4,
  "nbformat_minor": 0
}
