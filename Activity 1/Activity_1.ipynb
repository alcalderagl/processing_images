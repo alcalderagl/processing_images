{
 "cells": [
  {
   "cell_type": "markdown",
   "metadata": {},
   "source": [
    "### Master of Applied Artificial Intelligence\n",
    "\n",
    "**Course: TC4033 - Computational Vision for Images and Video**\n",
    "\n",
    "<img src=\"./../assets/logo.png\" alt=\"Image Alt Text\" width=\"500\"/>\n",
    "\n",
    "**Basic Image Processing Pixel to Pixel**\n",
    "\n",
    "Tutor: Dr. Gilberto Ochoa\n",
    "\n",
    "\n",
    "Team members:\n",
    "* Alfonso de Lucas Espinosa - A01795118\n",
    "* Ignacio Jose Aguilar Garcia - A00819762\n",
    "* Alejandro Calderon Aguilar - A01795353\n",
    "* Ricardo Mar Cupido - A01795394\n",
    "* Mario Fonseca Martinez - A01795228\n"
   ]
  },
  {
   "cell_type": "markdown",
   "metadata": {},
   "source": [
    "### Introduction\n",
    "\n",
    "Image is defined as two dimensional function *f(x,y)* where x and y are spatial (plane) coordinates, and the amplitud of *f* at any pair of coordinates (*x*, *y*) is called the intensity of the image at that point. \n",
    "\n",
    "\n",
    "Image processing has 3 types of computerized process:\n",
    "* Low-level\n",
    "    it involves in basic operations such as image preprocessing to **reduce noise**, **constrat ehancement** and image sharpening. \n",
    "\n",
    "    IMAGE (INPUT) -> [ OPERATIONS ] -> IMAGE (OUTPUT)\n",
    "* Mid-level\n",
    "    it involves tasks such as **segmentation**, **classification of individual objects**.\n",
    "\n",
    "    IMAGE (INPUT) -> [ SPECIFIC TASK ] -> ATTRIBUTES EXTRACTED (edges, contours, and the identity of individual attributes)\n",
    "* High-level\n",
    "\n",
    "\n",
    "\n",
    "In this notebook we are going to focus in Low-level processing to this introductory activity\n"
   ]
  },
  {
   "cell_type": "markdown",
   "metadata": {},
   "source": [
    "### Importing libraries"
   ]
  },
  {
   "cell_type": "code",
   "execution_count": 2,
   "metadata": {},
   "outputs": [],
   "source": [
    "from matplotlib import image as mpimg\n",
    "import matplotlib.pyplot as plt\n",
    "import numpy as np\n",
    "import cv2"
   ]
  },
  {
   "cell_type": "markdown",
   "metadata": {},
   "source": [
    "### 1. Types of Photometric Tranformation "
   ]
  },
  {
   "cell_type": "markdown",
   "metadata": {},
   "source": [
    "#### 1.1 Adjusting Brightness "
   ]
  },
  {
   "cell_type": "code",
   "execution_count": 1,
   "metadata": {},
   "outputs": [
    {
     "name": "stdout",
     "output_type": "stream",
     "text": [
      "Hello\n"
     ]
    }
   ],
   "source": [
    "print(\"Hello\")"
   ]
  },
  {
   "cell_type": "markdown",
   "metadata": {},
   "source": [
    "#### 1.2 Adjusting Contrast"
   ]
  },
  {
   "cell_type": "code",
   "execution_count": null,
   "metadata": {},
   "outputs": [],
   "source": []
  },
  {
   "cell_type": "markdown",
   "metadata": {},
   "source": [
    "#### 1.3 Color Augmentation"
   ]
  },
  {
   "cell_type": "code",
   "execution_count": null,
   "metadata": {},
   "outputs": [],
   "source": []
  },
  {
   "cell_type": "markdown",
   "metadata": {},
   "source": [
    "### 2. Negative Images and Their Applications: A Case Study in *specify case study*"
   ]
  },
  {
   "cell_type": "code",
   "execution_count": null,
   "metadata": {},
   "outputs": [],
   "source": []
  },
  {
   "cell_type": "markdown",
   "metadata": {},
   "source": [
    "### 3. Gamma Correction and its Application: A Case Study in *specify case study*"
   ]
  },
  {
   "cell_type": "code",
   "execution_count": null,
   "metadata": {},
   "outputs": [],
   "source": []
  },
  {
   "cell_type": "markdown",
   "metadata": {},
   "source": [
    "### 4. Image substraction and its Application: A Case Study in *specify case study*"
   ]
  },
  {
   "cell_type": "code",
   "execution_count": null,
   "metadata": {},
   "outputs": [],
   "source": []
  },
  {
   "cell_type": "markdown",
   "metadata": {},
   "source": [
    "### References\n",
    "[1] Smith, J., & Doe, A. (2020). *Title of the Paper*. Journal Name, Volume(Issue), pages. [DOI or URL](https://doi.org/example).\n",
    "\n"
   ]
  }
 ],
 "metadata": {
  "kernelspec": {
   "display_name": "base",
   "language": "python",
   "name": "python3"
  },
  "language_info": {
   "codemirror_mode": {
    "name": "ipython",
    "version": 3
   },
   "file_extension": ".py",
   "mimetype": "text/x-python",
   "name": "python",
   "nbconvert_exporter": "python",
   "pygments_lexer": "ipython3",
   "version": "3.11.5"
  }
 },
 "nbformat": 4,
 "nbformat_minor": 2
}
